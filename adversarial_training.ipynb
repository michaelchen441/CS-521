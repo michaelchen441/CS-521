{
 "cells": [
  {
   "cell_type": "markdown",
   "metadata": {
    "id": "Whsg1XX_OZs6"
   },
   "source": [
    "# Boilerplate\n",
    "\n",
    "Package installation, loading, and dataloaders. There's also a simple model defined. You can change it your favourite architecture if you want."
   ]
  },
  {
   "cell_type": "code",
   "execution_count": null,
   "metadata": {
    "id": "R1domTvnONqD"
   },
   "outputs": [],
   "source": [
    "# !pip install tensorboardX\n",
    "\n",
    "import torch\n",
    "import torch.nn as nn\n",
    "import torch.optim as optim\n",
    "import torch.nn.functional as F\n",
    "import numpy as np\n",
    "import time\n",
    "import matplotlib.pyplot as plt\n",
    "\n",
    "from torchvision import datasets, transforms\n",
    "# from tensorboardX import SummaryWriter\n",
    "\n",
    "use_cuda = False\n",
    "device = torch.device(\"cuda\" if use_cuda else \"cpu\")\n",
    "batch_size = 64\n",
    "\n",
    "np.random.seed(42)\n",
    "torch.manual_seed(42)\n",
    "\n",
    "\n",
    "## Dataloaders\n",
    "train_dataset = datasets.MNIST('mnist_data/', train=True, download=True, transform=transforms.Compose(\n",
    "    [transforms.ToTensor()]\n",
    "))\n",
    "test_dataset = datasets.MNIST('mnist_data/', train=False, download=True, transform=transforms.Compose(\n",
    "    [transforms.ToTensor()]\n",
    "))\n",
    "\n",
    "train_loader = torch.utils.data.DataLoader(train_dataset, batch_size=batch_size, shuffle=True)\n",
    "test_loader = torch.utils.data.DataLoader(test_dataset, batch_size=batch_size, shuffle=False)\n",
    "\n",
    "## Simple NN. You can change this if you want. If you change it, mention the architectural details in your report.\n",
    "class Net(nn.Module):\n",
    "    def __init__(self):\n",
    "        super(Net, self).__init__()\n",
    "        self.fc = nn.Linear(28*28, 200)\n",
    "        self.fc2 = nn.Linear(200,10)\n",
    "\n",
    "    def forward(self, x):\n",
    "        x = x.view((-1, 28*28))\n",
    "        x = F.relu(self.fc(x))\n",
    "        x = self.fc2(x)\n",
    "        return x\n",
    "\n",
    "class Normalize(nn.Module):\n",
    "    def forward(self, x):\n",
    "        return (x - 0.1307)/0.3081\n",
    "\n",
    "# Add the data normalization as a first \"layer\" to the network\n",
    "# this allows us to search for adverserial examples to the real image, rather than\n",
    "# to the normalized image\n",
    "model = nn.Sequential(Normalize(), Net())\n",
    "\n",
    "model = model.to(device)\n",
    "model.train()"
   ]
  },
  {
   "cell_type": "markdown",
   "metadata": {
    "id": "NCmWfZHTO8Oo"
   },
   "source": [
    "# Implement the Attacks\n",
    "\n",
    "Functions are given a simple useful signature that you can start with. Feel free to extend the signature as you see fit.\n",
    "\n",
    "You may find it useful to create a 'batched' version of PGD that you can use to create the adversarial attack."
   ]
  },
  {
   "cell_type": "code",
   "execution_count": 51,
   "metadata": {
    "id": "EZjvA49yONqP"
   },
   "outputs": [],
   "source": [
    "# The last argument 'targeted' can be used to toggle between a targeted and untargeted attack.\n",
    "def fgsm(model, x, y, eps):\n",
    "    #TODO: implement this as an intermediate step of PGD\n",
    "    # Notes: put the model in eval() mode for this function\n",
    "    model.eval()                   \n",
    "\n",
    "    x.requires_grad = True\n",
    "\n",
    "    #get gradient loss\n",
    "    output = model(x)\n",
    "    loss = F.cross_entropy(output,y)\n",
    "    model.zero_grad()\n",
    "    loss.backward()\n",
    "\n",
    "    sign_x = x.grad.sign()\n",
    "\n",
    "    #get eta with e * sign(loss grad) \n",
    "    n = eps * sign_x\n",
    "\n",
    "    x_prime = x + n\n",
    "    x_prime = torch.clamp(x_prime,0,1)\n",
    "\n",
    "    return x_prime\n",
    "\n",
    "def pgd_untargeted(model, x, y, k, eps, eps_step):\n",
    "    #TODO: implement this \n",
    "    # Notes: put the model in eval() mode for this function\n",
    "    # x: input image\n",
    "    # y: ground truth label for x\n",
    "    # k: steps of FGSM\n",
    "    # eps: projection region for PGD (note the need for normalization before projection, as eps values are for inputs in [0,1])\n",
    "    # eps_step: step for one iteration of FGSM\n",
    "    model.eval()\n",
    "\n",
    "    x_init = x.clone().detach()\n",
    "    ball_max = x_init + eps\n",
    "    ball_min = x_init - eps\n",
    "\n",
    "    for _ in range(k):\n",
    "\n",
    "        x.requires_grad = True\n",
    "        x_new = fgsm(model, x, y, eps_step)\n",
    "\n",
    "        x_new = torch.clamp(x_new, ball_min, ball_max)\n",
    "        x_new = torch.clamp(x_new, 0, 1)\n",
    "\n",
    "        x = x_new.detach()\n",
    "\n",
    "    return x\n",
    "\n",
    "    "
   ]
  },
  {
   "cell_type": "markdown",
   "metadata": {
    "id": "0Mja_AB4RykO"
   },
   "source": [
    "# Implement Adversarial Training"
   ]
  },
  {
   "cell_type": "code",
   "execution_count": 62,
   "metadata": {
    "id": "V-sw8yKYONqQ"
   },
   "outputs": [],
   "source": [
    "def train_model(model, num_epochs, enable_defense=True, attack='pgd', eps=0.1):\n",
    "    # TODO: implement this function that trains a given model on the MNIST dataset.\n",
    "    # this is a general-purpose function for both standard training and adversarial training.\n",
    "    # (toggle enable_defense parameter to switch between training schemes)\n",
    "    model.train()\n",
    "    optimizer = optim.SGD(model.parameters())\n",
    "    k = 10\n",
    "    eps_step = eps/k\n",
    "\n",
    "\n",
    "    for epoch in range(num_epochs):\n",
    "        full_loss = 0.\n",
    "\n",
    "        for data, label in train_loader:\n",
    "            data = data.to(device)\n",
    "            label = label.to(device)\n",
    "\n",
    "            if enable_defense:\n",
    "                #TODO implement\n",
    "                adversarial_data = pgd_untargeted(model, data, label, k, eps, eps_step)\n",
    "                full_data = torch.cat((data, adversarial_data))\n",
    "                label = torch.cat((label, label))\n",
    "            else:\n",
    "                 full_data = data\n",
    "\n",
    "            #standard training\n",
    "            optimizer.zero_grad()\n",
    "            out = model(full_data)\n",
    "            loss = F.cross_entropy(out, label)\n",
    "\n",
    "            loss.backward()\n",
    "            optimizer.step()\n",
    "\n",
    "            full_loss += loss.item()\n",
    "        \n",
    "        print(\"loss:\", full_loss)"
   ]
  },
  {
   "cell_type": "code",
   "execution_count": 69,
   "metadata": {},
   "outputs": [],
   "source": [
    "def test_model_on_attacks(model, attack='pgd', k=10, eps=0.1):\n",
    "    # TODO: implement this function to test the robust accuracy of the given model\n",
    "    # use pgd_untargeted() within this function\n",
    "\n",
    "    eps_step = eps/k\n",
    "    model.eval()\n",
    "\n",
    "    correct, correct_second, total = 0, 0, 0\n",
    "\n",
    "    for data, label in test_loader:\n",
    "        data = data.to(device)\n",
    "        label = label.to(device)\n",
    "\n",
    "        if attack == 'pgd':\n",
    "            #TODO implement\n",
    "            adversarial_data = pgd_untargeted(model, data, label, k, eps, eps_step)\n",
    "\n",
    "            full_data = torch.cat((data, adversarial_data))\n",
    "            label = torch.cat((label, label))\n",
    "        else:\n",
    "            full_data = data\n",
    "\n",
    "        out = model(full_data)\n",
    "        _, predicted = torch.max(out.data, 1)\n",
    "        \n",
    "        # print(label.size(0))\n",
    "        # print(data.size(0))\n",
    "        # print(out.size(0))\n",
    "        total += label.size(0)\n",
    "        # print(predicted)\n",
    "        correct += (predicted[:data.size(0)] == label[:data.size(0)]).sum().item()\n",
    "        if attack == 'pgd':\n",
    "            correct_second += (predicted[data.size(0):] == label[:data.size(0)]).sum().item()\n",
    "\n",
    "    if attack == 'pgd':\n",
    "        print(\"for eps\", eps)\n",
    "        print(\"robust accuracy\", 100 * (correct+correct_second) / total)\n",
    "        print(\"adversarial accuracy\", 100 * 2*correct_second / total)\n",
    "    else:\n",
    "        print(\"accuracy\", 100 * correct / total)\n",
    "    "
   ]
  },
  {
   "cell_type": "markdown",
   "metadata": {
    "id": "ZPMdfEhtR3zm"
   },
   "source": [
    "# Study Accuracy, Quality, etc.\n",
    "\n",
    "Compare the various results and report your observations on the submission."
   ]
  },
  {
   "cell_type": "code",
   "execution_count": 12,
   "metadata": {
    "scrolled": true
   },
   "outputs": [
    {
     "name": "stdout",
     "output_type": "stream",
     "text": [
      "loss: 1502.8045136928558\n",
      "loss: 744.9502051472664\n",
      "loss: 532.8573279678822\n",
      "loss: 448.432460218668\n",
      "loss: 402.5706770569086\n",
      "loss: 373.30283619463444\n",
      "loss: 352.3384487628937\n",
      "loss: 336.67286694049835\n",
      "loss: 323.8271854966879\n",
      "loss: 313.2625364214182\n",
      "loss: 304.1317924633622\n",
      "loss: 296.0572108477354\n",
      "loss: 288.8800073117018\n",
      "loss: 282.5764864012599\n",
      "loss: 276.43954711407423\n",
      "loss: 270.96807638555765\n",
      "loss: 265.6841846704483\n",
      "loss: 260.91436729580164\n",
      "loss: 256.296388015151\n",
      "loss: 251.809776365757\n"
     ]
    }
   ],
   "source": [
    "## train the original model\n",
    "model = nn.Sequential(Normalize(), Net())\n",
    "model = model.to(device)\n",
    "model.train()\n",
    "\n",
    "train_model(model, 20, False)\n",
    "torch.save(model.state_dict(), 'weights.pt')"
   ]
  },
  {
   "cell_type": "code",
   "execution_count": 72,
   "metadata": {},
   "outputs": [
    {
     "name": "stdout",
     "output_type": "stream",
     "text": [
      "accuracy 92.59\n"
     ]
    }
   ],
   "source": [
    "## basic test\n",
    "model = nn.Sequential(Normalize(), Net())\n",
    "model.load_state_dict(torch.load('weights.pt'))\n",
    "\n",
    "test_model_on_attacks(model, attack='None', eps=0)"
   ]
  },
  {
   "cell_type": "code",
   "execution_count": 59,
   "metadata": {},
   "outputs": [
    {
     "name": "stdout",
     "output_type": "stream",
     "text": [
      "for eps 0.05\n",
      "robust accuracy 81.29\n",
      "adversarial accuracy 69.99\n",
      "for eps 0.1\n",
      "robust accuracy 57.535\n",
      "adversarial accuracy 22.48\n",
      "for eps 0.15\n",
      "robust accuracy 47.72\n",
      "adversarial accuracy 2.85\n",
      "for eps 0.2\n",
      "robust accuracy 46.405\n",
      "adversarial accuracy 0.22\n"
     ]
    }
   ],
   "source": [
    "## PGD attack\n",
    "model = nn.Sequential(Normalize(), Net())\n",
    "model.load_state_dict(torch.load('weights.pt'))\n",
    "\n",
    "for eps in [0.05, 0.1, 0.15, 0.2]:\n",
    "    test_model_on_attacks(model, attack='pgd', k=10, eps=eps)"
   ]
  },
  {
   "cell_type": "code",
   "execution_count": 63,
   "metadata": {
    "id": "ufD-ccTFR8R2"
   },
   "outputs": [
    {
     "name": "stdout",
     "output_type": "stream",
     "text": [
      "loss: 2054.8571766614914\n",
      "loss: 1381.4369002580643\n",
      "loss: 1097.6894508600235\n",
      "loss: 969.4192295074463\n",
      "loss: 893.9285340309143\n",
      "loss: 842.7080737948418\n",
      "loss: 804.9950725436211\n",
      "loss: 776.2170244455338\n",
      "loss: 753.8474614620209\n",
      "loss: 735.5502720177174\n",
      "loss: 720.5899590551853\n",
      "loss: 707.5908622443676\n",
      "loss: 696.4534449875355\n",
      "loss: 686.5115034282207\n",
      "loss: 677.5861720442772\n",
      "loss: 669.0382596552372\n",
      "loss: 661.0957971513271\n",
      "loss: 653.3786489069462\n",
      "loss: 646.0679879486561\n",
      "loss: 639.2446138858795\n"
     ]
    }
   ],
   "source": [
    "## PGD based adversarial training\n",
    "model = nn.Sequential(Normalize(), Net())\n",
    "eps = 0.1\n",
    "train_model(model, 20, True, 'pgd', eps)\n",
    "torch.save(model.state_dict(), f'weights_AT_{eps}.pt')"
   ]
  },
  {
   "cell_type": "code",
   "execution_count": 71,
   "metadata": {},
   "outputs": [
    {
     "name": "stdout",
     "output_type": "stream",
     "text": [
      "accuracy 91.32\n",
      "for eps 0.05\n",
      "robust accuracy 86.765\n",
      "adversarial accuracy 82.21\n",
      "for eps 0.1\n",
      "robust accuracy 78.77\n",
      "adversarial accuracy 66.22\n",
      "for eps 0.15\n",
      "robust accuracy 66.83\n",
      "adversarial accuracy 42.34\n",
      "for eps 0.2\n",
      "robust accuracy 53.575\n",
      "adversarial accuracy 15.83\n"
     ]
    }
   ],
   "source": [
    "## PGD attack\n",
    "model = nn.Sequential(Normalize(), Net())\n",
    "model.load_state_dict(torch.load('weights_AT_0.1.pt'))\n",
    "\n",
    "test_model_on_attacks(model, attack='None', eps=0)\n",
    "\n",
    "for eps in [0.05, 0.1, 0.15, 0.2]:\n",
    "    test_model_on_attacks(model, attack='pgd', k=10, eps=eps)"
   ]
  },
  {
   "cell_type": "code",
   "execution_count": null,
   "metadata": {},
   "outputs": [],
   "source": []
  }
 ],
 "metadata": {
  "colab": {
   "provenance": []
  },
  "kernelspec": {
   "display_name": "Python 3 (ipykernel)",
   "language": "python",
   "name": "python3"
  },
  "language_info": {
   "codemirror_mode": {
    "name": "ipython",
    "version": 3
   },
   "file_extension": ".py",
   "mimetype": "text/x-python",
   "name": "python",
   "nbconvert_exporter": "python",
   "pygments_lexer": "ipython3",
   "version": "3.9.19"
  }
 },
 "nbformat": 4,
 "nbformat_minor": 1
}
