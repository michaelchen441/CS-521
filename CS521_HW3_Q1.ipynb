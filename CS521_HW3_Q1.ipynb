{
 "cells": [
  {
   "cell_type": "markdown",
   "metadata": {
    "id": "Whsg1XX_OZs6"
   },
   "source": [
    "# Boilerplate\n",
    "\n",
    "Package installation, loading, and dataloaders. There's also a simple model defined. You can change it your favourite architecture if you want."
   ]
  },
  {
   "cell_type": "code",
   "execution_count": 1,
   "metadata": {
    "id": "R1domTvnONqD"
   },
   "outputs": [
    {
     "name": "stdout",
     "output_type": "stream",
     "text": [
      "Downloading http://yann.lecun.com/exdb/mnist/train-images-idx3-ubyte.gz\n",
      "Failed to download (trying next):\n",
      "<urlopen error [SSL: CERTIFICATE_VERIFY_FAILED] certificate verify failed: certificate has expired (_ssl.c:1133)>\n",
      "\n",
      "Downloading https://ossci-datasets.s3.amazonaws.com/mnist/train-images-idx3-ubyte.gz\n",
      "Downloading https://ossci-datasets.s3.amazonaws.com/mnist/train-images-idx3-ubyte.gz to mnist_data/MNIST/raw/train-images-idx3-ubyte.gz\n"
     ]
    },
    {
     "name": "stderr",
     "output_type": "stream",
     "text": [
      "100%|██████████| 9912422/9912422 [00:11<00:00, 829615.72it/s] \n"
     ]
    },
    {
     "name": "stdout",
     "output_type": "stream",
     "text": [
      "Extracting mnist_data/MNIST/raw/train-images-idx3-ubyte.gz to mnist_data/MNIST/raw\n",
      "\n",
      "Downloading http://yann.lecun.com/exdb/mnist/train-labels-idx1-ubyte.gz\n",
      "Failed to download (trying next):\n",
      "<urlopen error [SSL: CERTIFICATE_VERIFY_FAILED] certificate verify failed: certificate has expired (_ssl.c:1133)>\n",
      "\n",
      "Downloading https://ossci-datasets.s3.amazonaws.com/mnist/train-labels-idx1-ubyte.gz\n",
      "Downloading https://ossci-datasets.s3.amazonaws.com/mnist/train-labels-idx1-ubyte.gz to mnist_data/MNIST/raw/train-labels-idx1-ubyte.gz\n"
     ]
    },
    {
     "name": "stderr",
     "output_type": "stream",
     "text": [
      "100%|██████████| 28881/28881 [00:00<00:00, 1040309.29it/s]\n"
     ]
    },
    {
     "name": "stdout",
     "output_type": "stream",
     "text": [
      "Extracting mnist_data/MNIST/raw/train-labels-idx1-ubyte.gz to mnist_data/MNIST/raw\n",
      "\n",
      "Downloading http://yann.lecun.com/exdb/mnist/t10k-images-idx3-ubyte.gz\n",
      "Failed to download (trying next):\n",
      "<urlopen error [SSL: CERTIFICATE_VERIFY_FAILED] certificate verify failed: certificate has expired (_ssl.c:1133)>\n",
      "\n",
      "Downloading https://ossci-datasets.s3.amazonaws.com/mnist/t10k-images-idx3-ubyte.gz\n",
      "Downloading https://ossci-datasets.s3.amazonaws.com/mnist/t10k-images-idx3-ubyte.gz to mnist_data/MNIST/raw/t10k-images-idx3-ubyte.gz\n"
     ]
    },
    {
     "name": "stderr",
     "output_type": "stream",
     "text": [
      "100%|██████████| 1648877/1648877 [00:00<00:00, 8672496.99it/s]\n"
     ]
    },
    {
     "name": "stdout",
     "output_type": "stream",
     "text": [
      "Extracting mnist_data/MNIST/raw/t10k-images-idx3-ubyte.gz to mnist_data/MNIST/raw\n",
      "\n",
      "Downloading http://yann.lecun.com/exdb/mnist/t10k-labels-idx1-ubyte.gz\n",
      "Failed to download (trying next):\n",
      "<urlopen error [SSL: CERTIFICATE_VERIFY_FAILED] certificate verify failed: certificate has expired (_ssl.c:1133)>\n",
      "\n",
      "Downloading https://ossci-datasets.s3.amazonaws.com/mnist/t10k-labels-idx1-ubyte.gz\n",
      "Downloading https://ossci-datasets.s3.amazonaws.com/mnist/t10k-labels-idx1-ubyte.gz to mnist_data/MNIST/raw/t10k-labels-idx1-ubyte.gz\n"
     ]
    },
    {
     "name": "stderr",
     "output_type": "stream",
     "text": [
      "100%|██████████| 4542/4542 [00:00<00:00, 1271221.72it/s]"
     ]
    },
    {
     "name": "stdout",
     "output_type": "stream",
     "text": [
      "Extracting mnist_data/MNIST/raw/t10k-labels-idx1-ubyte.gz to mnist_data/MNIST/raw\n",
      "\n"
     ]
    },
    {
     "name": "stderr",
     "output_type": "stream",
     "text": [
      "\n"
     ]
    },
    {
     "data": {
      "text/plain": [
       "Sequential(\n",
       "  (0): Normalize()\n",
       "  (1): Net(\n",
       "    (fc): Linear(in_features=784, out_features=50, bias=True)\n",
       "    (fc2): Linear(in_features=50, out_features=50, bias=True)\n",
       "    (fc3): Linear(in_features=50, out_features=50, bias=True)\n",
       "    (fc4): Linear(in_features=50, out_features=10, bias=True)\n",
       "  )\n",
       ")"
      ]
     },
     "execution_count": 1,
     "metadata": {},
     "output_type": "execute_result"
    }
   ],
   "source": [
    "# !pip install tensorboardX\n",
    "\n",
    "import torch\n",
    "import torch.nn as nn\n",
    "import torch.optim as optim\n",
    "import torch.nn.functional as F\n",
    "import numpy as np\n",
    "import time\n",
    "import matplotlib.pyplot as plt\n",
    "\n",
    "from torchvision import datasets, transforms\n",
    "# from tensorboardX import SummaryWriter\n",
    "\n",
    "use_cuda = False\n",
    "device = torch.device(\"cuda\" if use_cuda else \"cpu\")\n",
    "batch_size = 64\n",
    "\n",
    "np.random.seed(42)\n",
    "torch.manual_seed(42)\n",
    "\n",
    "\n",
    "## Dataloaders\n",
    "train_dataset = datasets.MNIST('mnist_data/', train=True, download=True, transform=transforms.Compose(\n",
    "    [transforms.ToTensor()]\n",
    "))\n",
    "test_dataset = datasets.MNIST('mnist_data/', train=False, download=True, transform=transforms.Compose(\n",
    "    [transforms.ToTensor()]\n",
    "))\n",
    "\n",
    "train_loader = torch.utils.data.DataLoader(train_dataset, batch_size=batch_size, shuffle=True)\n",
    "test_loader = torch.utils.data.DataLoader(test_dataset, batch_size=batch_size, shuffle=False)\n",
    "\n",
    "## Simple NN. You can change this if you want. If you change it, mention the architectural details in your report.\n",
    "class Net(nn.Module):\n",
    "    def __init__(self):\n",
    "        super(Net, self).__init__()\n",
    "        self.fc = nn.Linear(28*28, 50)\n",
    "        self.fc2 = nn.Linear(50,50)\n",
    "        self.fc3 = nn.Linear(50,50)\n",
    "        self.fc4 = nn.Linear(50,10)\n",
    "\n",
    "    def forward(self, x):\n",
    "        x = x.view((-1, 28*28))\n",
    "        x = F.relu(self.fc(x))\n",
    "        x = F.relu(self.fc2(x))\n",
    "        x = F.relu(self.fc3(x))\n",
    "        x = self.fc4(x)\n",
    "        return x\n",
    "\n",
    "class Normalize(nn.Module):\n",
    "    def forward(self, x):\n",
    "        return (x - 0.1307)/0.3081\n",
    "\n",
    "# Add the data normalization as a first \"layer\" to the network\n",
    "# this allows us to search for adverserial examples to the real image, rather than\n",
    "# to the normalized image\n",
    "model = nn.Sequential(Normalize(), Net())\n",
    "\n",
    "model = model.to(device)\n",
    "model.train()"
   ]
  },
  {
   "cell_type": "markdown",
   "metadata": {
    "id": "0Mja_AB4RykO"
   },
   "source": [
    "# Implement Standard Training"
   ]
  },
  {
   "cell_type": "code",
   "execution_count": 2,
   "metadata": {
    "id": "V-sw8yKYONqQ"
   },
   "outputs": [],
   "source": [
    "def train_model(model, num_epochs):\n",
    "    # TODO: implement this function that trains a given model on the MNIST dataset.\n",
    "    # this is a general-purpose function for both standard training and adversarial training.\n",
    "    # (toggle enable_defense parameter to switch between training schemes)\n",
    "    model.train()\n",
    "    optimizer = optim.SGD(model.parameters())\n",
    "\n",
    "    for epoch in range(num_epochs):\n",
    "\n",
    "\n",
    "        for data, label in train_loader:\n",
    "            data = data.to(device)\n",
    "            label = label.to(device)\n",
    "\n",
    "\n",
    "            #standard training\n",
    "            optimizer.zero_grad()\n",
    "            out = model(data)\n",
    "            loss = F.cross_entropy(out, label)\n",
    "\n",
    "            loss.backward()\n",
    "            optimizer.step()\n"
   ]
  },
  {
   "cell_type": "code",
   "execution_count": 47,
   "metadata": {},
   "outputs": [],
   "source": [
    "def get_worst_case_logits(data, label, model, eps_test):\n",
    "    lb = data - eps_test\n",
    "    ub = data + eps_test\n",
    "\n",
    "    #propogate through each layer based on linear or ReLU\n",
    "    for layer in model.children():\n",
    "        lb = layer(lb)\n",
    "        ub = layer(ub)\n",
    "\n",
    "    true_classes = label.unsqueeze(1) == torch.arange(10).to(device)\n",
    "    # print(\"true classes\", true_classes)\n",
    "    logits = torch.where(true_classes, lb, ub)\n",
    "    # print(\"logits\", logits)\n",
    "    return logits"
   ]
  },
  {
   "cell_type": "code",
   "execution_count": 38,
   "metadata": {},
   "outputs": [],
   "source": [
    "def train_model_IBP(model, num_epochs):\n",
    "    #  trains a given model on the MNIST dataset.\n",
    "    model.train()\n",
    "    optimizer = optim.SGD(model.parameters())\n",
    "\n",
    "    # setup eps_train and k steps for each epoch\n",
    "    eps_test = 0 \n",
    "    eps_test_step = .1 / num_epochs\n",
    "    \n",
    "    k = 1\n",
    "    k_step = -0.5 / num_epochs\n",
    "\n",
    "\n",
    "    for epoch in range(num_epochs):\n",
    "\n",
    "        for data, label in train_loader:\n",
    "            data = data.to(device)\n",
    "            label = label.to(device)\n",
    "\n",
    "            optimizer.zero_grad()\n",
    "            out = model(data)\n",
    "            z_hat = get_worst_case_logits(data, label, model, eps_test)\n",
    "\n",
    "            #TODO edit loss function\n",
    "            loss_fit = F.cross_entropy(out, label)\n",
    "            loss_spec = F.cross_entropy(z_hat, label) \n",
    "            # print(\"loss_fit:\", loss_fit, \"loss_spec:\", loss_spec)\n",
    "            loss = (k*loss_fit) + ((1-k)*loss_spec)\n",
    "            loss.backward()\n",
    "            optimizer.step()\n",
    "        \n",
    "        eps_test += eps_test_step\n",
    "        k += k_step"
   ]
  },
  {
   "cell_type": "code",
   "execution_count": 5,
   "metadata": {},
   "outputs": [],
   "source": [
    "#Interval analysis\n",
    "def interval_analysis(model, input, eps):\n",
    "\n",
    "    lb = input - eps\n",
    "    ub = input + eps\n",
    "\n",
    "    lb = torch.clamp(lb, 0, 1)\n",
    "    ub = torch.clamp(ub, 0, 1)\n",
    "    \n",
    "    lb_out = model(lb)\n",
    "    ub_out = model(ub)\n",
    "\n",
    "    return lb_out, ub_out"
   ]
  },
  {
   "cell_type": "code",
   "execution_count": 6,
   "metadata": {},
   "outputs": [],
   "source": [
    "def test_model(model):\n",
    "    # TODO: implement this function to test the robust accuracy of the given model\n",
    "    # use pgd_untargeted() within this function\n",
    "\n",
    "    model.eval()\n",
    "\n",
    "    correct, total = 0, 0\n",
    "\n",
    "    for data, label in test_loader:\n",
    "        data = data.to(device)\n",
    "        label = label.to(device)\n",
    "\n",
    "        out = model(data)\n",
    "        _, predicted = torch.max(out.data, 1)\n",
    "        \n",
    "        # print(label.size(0))\n",
    "        # print(data.size(0))\n",
    "        # print(out.size(0))\n",
    "        total += label.size(0)\n",
    "        # print(predicted)\n",
    "        correct += (predicted == label).sum().item()\n",
    "\n",
    "    print(\"accuracy\", 100 * correct / total)\n",
    "    "
   ]
  },
  {
   "cell_type": "code",
   "execution_count": 7,
   "metadata": {},
   "outputs": [],
   "source": [
    "def test_robustness(model):\n",
    "\n",
    "    model.eval()\n",
    "\n",
    "    for eps in [0.01, 0.02, 0.03, 0.04, 0.05, 0.06, 0.07, 0.08, 0.09, 0.1]:\n",
    "        correct, total = 0, 0\n",
    "\n",
    "        for data, label in test_loader:\n",
    "            data = data.to(device)\n",
    "            label = label.to(device)\n",
    "\n",
    "            out_lb, out_ub = interval_analysis(model, data, eps)\n",
    "            out_lb, out_ub = out_lb.argmax(dim=1), out_ub.argmax(dim=1) #choose class for each image\n",
    "            \n",
    "\n",
    "            total += label.size(0)\n",
    "            correct += (out_lb == out_ub).sum().item()\n",
    "        print(\"eps:\", eps)\n",
    "        print(\"percent robust\", 100 * correct / total)\n",
    "        print()\n",
    "    \n",
    "        "
   ]
  },
  {
   "cell_type": "markdown",
   "metadata": {
    "id": "ZPMdfEhtR3zm"
   },
   "source": [
    "# Study Accuracy, Quality, etc.\n",
    "\n",
    "Compare the various results and report your observations on the submission."
   ]
  },
  {
   "cell_type": "code",
   "execution_count": 8,
   "metadata": {},
   "outputs": [],
   "source": [
    "# The last argument 'targeted' can be used to toggle between a targeted and untargeted attack.\n",
    "def fgsm(model, x, y, eps):\n",
    "    #TODO: implement this as an intermediate step of PGD\n",
    "    # Notes: put the model in eval() mode for this function\n",
    "    model.eval()                   \n",
    "\n",
    "    x.requires_grad = True\n",
    "\n",
    "    #get gradient loss\n",
    "    output = model(x)\n",
    "    loss = F.cross_entropy(output,y)\n",
    "    model.zero_grad()\n",
    "    loss.backward()\n",
    "\n",
    "    sign_x = x.grad.sign()\n",
    "\n",
    "    #get eta with e * sign(loss grad) \n",
    "    n = eps * sign_x\n",
    "\n",
    "    x_prime = x + n\n",
    "    x_prime = torch.clamp(x_prime,0,1)\n",
    "\n",
    "    return x_prime\n",
    "\n",
    "def pgd_untargeted(model, x, y, k, eps, eps_step):\n",
    "    #TODO: implement this \n",
    "    # Notes: put the model in eval() mode for this function\n",
    "    # x: input image\n",
    "    # y: ground truth label for x\n",
    "    # k: steps of FGSM\n",
    "    # eps: projection region for PGD (note the need for normalization before projection, as eps values are for inputs in [0,1])\n",
    "    # eps_step: step for one iteration of FGSM\n",
    "    model.eval()\n",
    "\n",
    "    x_init = x.clone().detach()\n",
    "    ball_max = x_init + eps\n",
    "    ball_min = x_init - eps\n",
    "\n",
    "    for _ in range(k):\n",
    "\n",
    "        x.requires_grad = True\n",
    "        x_new = fgsm(model, x, y, eps_step)\n",
    "\n",
    "        x_new = torch.clamp(x_new, ball_min, ball_max)\n",
    "        x_new = torch.clamp(x_new, 0, 1)\n",
    "\n",
    "        x = x_new.detach()\n",
    "\n",
    "    return x"
   ]
  },
  {
   "cell_type": "code",
   "execution_count": 9,
   "metadata": {},
   "outputs": [],
   "source": [
    "def test_model_on_attacks(model, attack='pgd', k=10, eps=0.1):\n",
    "    # TODO: implement this function to test the robust accuracy of the given model\n",
    "    # use pgd_untargeted() within this function\n",
    "\n",
    "    eps_step = eps/k\n",
    "    model.eval()\n",
    "\n",
    "    correct, correct_second, total = 0, 0, 0\n",
    "\n",
    "    for data, label in test_loader:\n",
    "        data = data.to(device)\n",
    "        label = label.to(device)\n",
    "\n",
    "        if attack == 'pgd':\n",
    "            #TODO implement\n",
    "            adversarial_data = pgd_untargeted(model, data, label, k, eps, eps_step)\n",
    "\n",
    "            full_data = torch.cat((data, adversarial_data))\n",
    "            label = torch.cat((label, label))\n",
    "        else:\n",
    "            full_data = data\n",
    "\n",
    "        out = model(full_data)\n",
    "        _, predicted = torch.max(out.data, 1)\n",
    "        \n",
    "        # print(label.size(0))\n",
    "        # print(data.size(0))\n",
    "        # print(out.size(0))\n",
    "        total += label.size(0)\n",
    "        # print(predicted)\n",
    "        correct += (predicted[:data.size(0)] == label[:data.size(0)]).sum().item()\n",
    "        if attack == 'pgd':\n",
    "            correct_second += (predicted[data.size(0):] == label[:data.size(0)]).sum().item()\n",
    "\n",
    "    if attack == 'pgd':\n",
    "        print(\"for eps\", eps)\n",
    "        print(\"robust accuracy\", 100 * (correct+correct_second) / total)\n",
    "        print(\"standard accuracy\", 100 * 2*correct / total)\n",
    "        print(\"adversarial accuracy\", 100 * 2*correct_second / total)\n",
    "    else:\n",
    "        print(\"accuracy\", 100 * correct / total)\n",
    "    "
   ]
  },
  {
   "cell_type": "code",
   "execution_count": 34,
   "metadata": {},
   "outputs": [],
   "source": [
    "#Interval analysis\n",
    "def interval_analysis(model, input, eps):\n",
    "\n",
    "    lb = input - eps\n",
    "    ub = input + eps\n",
    "\n",
    "    lb = torch.clamp(lb, 0, 1)\n",
    "    ub = torch.clamp(ub, 0, 1)\n",
    "    \n",
    "    lb_out = model(lb)\n",
    "    ub_out = model(ub)\n",
    "\n",
    "    return lb_out, ub_out"
   ]
  },
  {
   "cell_type": "code",
   "execution_count": 35,
   "metadata": {},
   "outputs": [],
   "source": [
    "def test_robustness(model):\n",
    "\n",
    "    model.eval()\n",
    "\n",
    "    for eps in [0.01, 0.02, 0.03, 0.04, 0.05, 0.06, 0.07, 0.08, 0.09, 0.1]:\n",
    "        correct, total = 0, 0\n",
    "\n",
    "        for data, label in test_loader:\n",
    "            data = data.to(device)\n",
    "            label = label.to(device)\n",
    "\n",
    "            out_lb, out_ub = interval_analysis(model, data, eps)\n",
    "            out_lb, out_ub = out_lb.argmax(dim=1), out_ub.argmax(dim=1) #choose class for each image\n",
    "            \n",
    "\n",
    "            total += label.size(0)\n",
    "            correct += (out_lb == out_ub).sum().item()\n",
    "        print(\"eps:\", eps, \"percent robust\", 100 * correct / total)\n",
    "\n",
    "    "
   ]
  },
  {
   "cell_type": "code",
   "execution_count": 44,
   "metadata": {
    "scrolled": true
   },
   "outputs": [
    {
     "name": "stdout",
     "output_type": "stream",
     "text": [
      "IBP train time:  176.51938009262085\n"
     ]
    }
   ],
   "source": [
    "## train the original model\n",
    "model = nn.Sequential(Normalize(), Net())\n",
    "model = model.to(device)\n",
    "model.train()\n",
    "\n",
    "start = time.time()\n",
    "train_model_IBP(model, 15)\n",
    "end = time.time()\n",
    "print(\"IBP train time: \", end - start)\n",
    "\n",
    "torch.save(model.state_dict(), 'weights_IBP.pt')"
   ]
  },
  {
   "cell_type": "code",
   "execution_count": 13,
   "metadata": {},
   "outputs": [
    {
     "name": "stdout",
     "output_type": "stream",
     "text": [
      "standard train time:  148.0978078842163\n"
     ]
    }
   ],
   "source": [
    "model = nn.Sequential(Normalize(), Net())\n",
    "model = model.to(device)\n",
    "model.train()\n",
    "\n",
    "start = time.time()\n",
    "train_model(model, 15)\n",
    "end = time.time()\n",
    "print(\"standard train time: \", end - start)\n",
    "\n",
    "\n",
    "torch.save(model.state_dict(), 'weights.pt')"
   ]
  },
  {
   "cell_type": "code",
   "execution_count": 46,
   "metadata": {},
   "outputs": [
    {
     "name": "stdout",
     "output_type": "stream",
     "text": [
      "accuracy 89.91\n",
      "accuracy 89.87\n"
     ]
    }
   ],
   "source": [
    "\n",
    "model = nn.Sequential(Normalize(), Net())\n",
    "model.load_state_dict(torch.load('weights.pt'))\n",
    "\n",
    "test_model(model)\n",
    "\n",
    "model = nn.Sequential(Normalize(), Net())\n",
    "model.load_state_dict(torch.load('weights_IBP.pt'))\n",
    "\n",
    "test_model(model)"
   ]
  },
  {
   "cell_type": "code",
   "execution_count": 15,
   "metadata": {},
   "outputs": [
    {
     "name": "stdout",
     "output_type": "stream",
     "text": [
      "for eps 0.05\n",
      "robust accuracy 76.84\n",
      "standard accuracy 89.91\n",
      "adversarial accuracy 63.77\n"
     ]
    }
   ],
   "source": [
    "## robust test\n",
    "model = nn.Sequential(Normalize(), Net())\n",
    "model.load_state_dict(torch.load('weights.pt'))\n",
    "\n",
    "for eps in [.05]:# [0.05, 0.1, 0.15, 0.2]:\n",
    "    test_model_on_attacks(model, attack='pgd', k=10, eps=eps)"
   ]
  },
  {
   "cell_type": "code",
   "execution_count": 41,
   "metadata": {},
   "outputs": [
    {
     "name": "stdout",
     "output_type": "stream",
     "text": [
      "for eps 0.05\n",
      "robust accuracy 74.67\n",
      "standard accuracy 89.16\n",
      "adversarial accuracy 60.18\n"
     ]
    }
   ],
   "source": [
    "## robust test\n",
    "model = nn.Sequential(Normalize(), Net())\n",
    "model.load_state_dict(torch.load('weights_IBP.pt'))\n",
    "\n",
    "for eps in [.05]:# [0.05, 0.1, 0.15, 0.2]:\n",
    "    test_model_on_attacks(model, attack='pgd', k=10, eps=eps)"
   ]
  },
  {
   "cell_type": "code",
   "execution_count": 42,
   "metadata": {},
   "outputs": [
    {
     "name": "stdout",
     "output_type": "stream",
     "text": [
      "eps: 0.01 percent robust 99.12\n",
      "eps: 0.02 percent robust 98.4\n",
      "eps: 0.03 percent robust 97.72\n",
      "eps: 0.04 percent robust 97.01\n",
      "eps: 0.05 percent robust 96.25\n",
      "eps: 0.06 percent robust 95.49\n",
      "eps: 0.07 percent robust 94.72\n",
      "eps: 0.08 percent robust 93.93\n",
      "eps: 0.09 percent robust 93.08\n",
      "eps: 0.1 percent robust 92.2\n"
     ]
    }
   ],
   "source": [
    "#robustness test\n",
    "test_robustness(model)\n",
    "\n",
    "    "
   ]
  },
  {
   "cell_type": "code",
   "execution_count": null,
   "metadata": {},
   "outputs": [],
   "source": []
  }
 ],
 "metadata": {
  "colab": {
   "provenance": []
  },
  "kernelspec": {
   "display_name": "Python 3",
   "language": "python",
   "name": "python3"
  },
  "language_info": {
   "codemirror_mode": {
    "name": "ipython",
    "version": 3
   },
   "file_extension": ".py",
   "mimetype": "text/x-python",
   "name": "python",
   "nbconvert_exporter": "python",
   "pygments_lexer": "ipython3",
   "version": "3.9.19"
  }
 },
 "nbformat": 4,
 "nbformat_minor": 1
}
